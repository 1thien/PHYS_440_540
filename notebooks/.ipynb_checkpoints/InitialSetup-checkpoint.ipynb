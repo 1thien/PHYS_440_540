{
 "cells": [
  {
   "cell_type": "markdown",
   "metadata": {
    "slideshow": {
     "slide_type": "slide"
    }
   },
   "source": [
    "# Gettings Started\n",
    "\n",
    "G. Richards\n",
    "(2016, 2018, 2020)\n",
    "This notebook contains most everything that we need to get started.  It draws heavily from classes taught by Zeljko Ivezic and Mario Juric, Andy Connolly (http://connolly.github.io/introAstroML/) and Karen Leighly ([seminar.ouml.org](http://seminar.ouml.org))."
   ]
  },
  {
   "cell_type": "markdown",
   "metadata": {
    "slideshow": {
     "slide_type": "slide"
    }
   },
   "source": [
    "## Git and Github\n",
    "\n",
    "We will use a version control system tool called `git`, and an internet service called [GitHub](http://github.com), that will let you download the notebooks (like this one!) that I will put into the class repository before each class.\n",
    "\n",
    "If you don't have one already, make an account on [GitHub](https://github.com/), where you can create your own repositories. Let's pause and make sure we all have a github account first!"
   ]
  },
  {
   "cell_type": "markdown",
   "metadata": {
    "slideshow": {
     "slide_type": "slide"
    }
   },
   "source": [
    "## Git\n",
    "To get Git for any platform, see: [https://git-scm.com/download/](https://git-scm.com/download/).\n",
    "\n",
    "If you're using a Mac, you'll have `git` installed already. Open a terminal window and run\n",
    "\n",
    "    $ which git\n",
    "\n",
    "For example:\n",
    "\n",
    "```\n",
    "$ which git\n",
    "/usr/bin/git\n",
    "\n",
    "$ git --version\n",
    "git version 2.18.0\n",
    "```\n",
    "\n",
    "Let's pause and make sure we all have git installed."
   ]
  },
  {
   "cell_type": "markdown",
   "metadata": {
    "slideshow": {
     "slide_type": "slide"
    }
   },
   "source": [
    "## Downloading the class repository\n",
    "\n",
    "Once Git is installed, make a place where you are going to put the class repository.  Perhaps in a git subdirectory if you think that you might use more repositories later (we might even for this class!).  \n",
    "```\n",
    "$ cd ~\n",
    "$ mkdir git\n",
    "$ cd git\n",
    "$ mkdir PHYS_440_540\n",
    "$ cd PHYS_440_540\n",
    "```\n",
    "\n",
    "Now we need to \"clone\" the class repository into your account\n",
    "\n",
    "```\n",
    "$ git clone https://github.com/gtrichards/PHYS_440_540.git\n",
    "```    \n",
    "\n",
    "This will make a subdirectory called `PHYS_440_540` in which you will see a file called `InitialSetup.ipynb` (which is the file that you are reading now!).  See below for how to open this (and other notebooks) using [Jupyter](http://jupyter.org/).\n",
    "\n",
    "Before each class, you will want to update this repository so that you get any new files that we have put there for you. Do that with\n",
    "\n",
    "```\n",
    "$ cd ~/git/PHYS_440_540\n",
    "$ git pull\n",
    "```"
   ]
  },
  {
   "cell_type": "markdown",
   "metadata": {
    "slideshow": {
     "slide_type": "slide"
    }
   },
   "source": [
    "\n",
    "# Setting Up Your Computer\n",
    "\n",
    "Everyone will need to have the proper software environment in order to be able to participate in the course.  These instructions have been tested on my Mac laptop, but should work for other platforms as well.\n",
    "\n",
    "The software requirements (or at least what I am currently running) are as follows:\n",
    "    Anaconda Python 3.8.X  (but 2.7.X **should** work too if that is what you already have)"
   ]
  },
  {
   "cell_type": "code",
   "execution_count": 1,
   "metadata": {
    "slideshow": {
     "slide_type": "slide"
    }
   },
   "outputs": [
    {
     "name": "stdout",
     "output_type": "stream",
     "text": [
      "python version  3.8.3  core programming language\n",
      "numpy version  1.18.5  efficient array operations\n",
      "scipy version  1.5.0  scientific computing tools\n",
      "matplotlib version  3.2.2  plotting and visualization\n",
      "sklearn version  0.23.1  machine learning\n",
      "astroML version  1.0  astronomical machine learning toolkit\n"
     ]
    }
   ],
   "source": [
    "from platform import python_version\n",
    "import numpy\n",
    "import scipy\n",
    "import matplotlib\n",
    "import sklearn\n",
    "import astroML\n",
    "\n",
    "print(\"python version \",python_version(), \" core programming language\")\n",
    "print(\"numpy version \",numpy.__version__, \" efficient array operations\")\n",
    "print(\"scipy version \",scipy.__version__, \" scientific computing tools\")\n",
    "print(\"matplotlib version \",matplotlib.__version__, \" plotting and visualization\")\n",
    "print(\"sklearn version \",sklearn.__version__, \" machine learning\")\n",
    "print(\"astroML version \",astroML.__version__, \" astronomical machine learning toolkit\")"
   ]
  },
  {
   "cell_type": "markdown",
   "metadata": {
    "slideshow": {
     "slide_type": "slide"
    }
   },
   "source": [
    "## Anaconda Installation\n",
    "\n",
    "If you already have Anaconda Python installed on your machine, then please skip to the next section.\n",
    "\n",
    "If you **don’t** already have Anaconda Python 3.8.X, then go to \n",
    "https://www.anaconda.com/download/\n",
    "and download the installer of your choice (e.g., the graphical OSX installer).  Don't worry--it's free.\n",
    "\n",
    "Open the install package and follow the instructions, installing **for you only**.\n",
    "\n",
    "Open a **new** terminal window, and make sure your $PATH variable points to the Anaconda installation. You can do this by typing\n",
    "\n",
    "    [~]$ which python\n",
    "\n",
    "The result should show the path to the newly-installed anaconda folder. If not, you must modify your $PATH variable to point to the anaconda directory as follows:\n",
    "\n",
    "---\n",
    "### Add Anaconda Python to the path \n",
    "\n",
    "How to do this depends on whether you use BASH or TCSH (if you don't know what that means, you are probably using BASH).\n",
    "\n",
    "I use TCSH, so I added the following line to my .tcshrc file:                                                                                                                                \n",
    "    set path=(/Users/gtr/opt/anaconda3/bin $path)\n",
    "\n",
    "If you use BASH instead, you’ll have to add the following line to your .bash_profile\n",
    "    \n",
    "    export PATH=\"$HOME/opt/anaconda3/bin:$PATH\"\n",
    "\n",
    "\n",
    "For good measure (since I have about 12 python installations on my computer), I usually create an alias for Anaconda python in my `.tcshrc` file so that I know that I’m starting that particular python if I’m using the command line.  See also the instruction below for creating different python *environments*.\n",
    "\n",
    "    alias apython '/Users/gtr/opt/anaconda3/bin/python'\n",
    "    \n",
    "The syntax is slightly different for BASH users.  Ask your friends for help.\n",
    "\n",
    "\n",
    "Now either close that terminal window and open a new one and type\n",
    "\n",
    "    [~]$ which python\n",
    "\n",
    "Hopefully all is well now.\n",
    "\n",
    "---\n",
    "### Update your Anaconda distribution\n",
    "\n",
    "    [~]$ conda update conda\n",
    "\n",
    "Conda is the package management system that comes with anaconda.  **Do this once a week.**\n",
    "\n",
    "\n",
    "I’m currently running Python 3.8.3 via conda-4.8.3.  You don’t have to be doing *exactly* the same, but if you run into problems that I am not having, that would be a good place to start debugging.\n",
    "\n",
    "Conda will have installed most of the the other software packages listed above.   The exceptions are noted below."
   ]
  },
  {
   "cell_type": "markdown",
   "metadata": {
    "slideshow": {
     "slide_type": "slide"
    }
   },
   "source": [
    "### Python2 vs. Python3\n",
    "\n",
    "Things are are bit confusing with Python right now while everyone makes the transition to Python3.  For the most part that already has happened as of the start of 2020.  However, to avoid any related problems as much as possible (e.g., if some legacy code won't run because we are trying to use Python3), it might help to set up some Python *environments*.  To see what current (Anaconda python) environments you have, type:\n",
    "\n",
    "    [~]$ conda env list\n",
    "    \n",
    "If you want to be able to run both Python2 and Python3, then you can make separate environments (in addition to our Python3 \"base\") with   \n",
    "    \n",
    "    [~]$ conda create --name py27 python=2.7\n",
    "    \n",
    "    [~]$ conda create --name py38 python=3.8\n",
    "\n",
    "To activate these environments (which means overriding the default when you start Python), we need to activate them.  \n",
    "\n",
    "BASH users:\n",
    "\n",
    "    [~]$ source activate py38\n",
    "    \n",
    "    [~]$ source deactivate\n",
    "    \n",
    "\n",
    "TCSH (start BASH first)\n",
    "\n",
    "    [~]$ sh\n",
    "   \n",
    "    sh-3.2$ source activate py38\n",
    "    \n",
    "    sh-3.2$ source deactivate\n",
    "\n",
    "If you think that different versions of Python are going to be an issue for you, then please create a new environment to use for class.  If you do that, you'll have to make sure that you are installing software, opening notebooks, etc, from within that environment.  \n",
    "\n",
    "If you haven't installed Python before or are happy to be forced by this class to use the latest version, then you don't need to worry about environments.  You can just work with the \"base\" (default)."
   ]
  },
  {
   "cell_type": "markdown",
   "metadata": {
    "slideshow": {
     "slide_type": "slide"
    }
   },
   "source": [
    "## Installing astroML\n",
    "\n",
    "[astroML](http://www.astroml.org/) is the software library that goes together with [the textbook](https://press.princeton.edu/books/hardcover/9780691198309/statistics-data-mining-and-machine-learning-in-astronomy).  Much of it is a series of wrappers to [scikit-learn](http://scikit-learn.org/), where Jake VanderPlas is one of the main contributors to each.  Jake has written an [Intro to AstroML](http://ieeexplore.ieee.org/stamp/stamp.jsp?arnumber=6382200) paper that is worth going through to give you an idea of the sorts of things that we'll be doing in the class.\n",
    "\n",
    "AstroML requires `scikit-learn`. Let's install that first using **conda**:\n",
    "\n",
    "```bash\n",
    "$ conda install scikit-learn\n",
    "```\n",
    "\n",
    "We'll install the bleeding edge version of `astroML` from github, using **pip** (the python package installer):\n",
    "\n",
    "```bash\n",
    "$ pip install git+https://github.com/astroML/astroML\n",
    "```\n",
    "\n",
    "and same for the add-on packages:\n",
    "\n",
    "```bash\n",
    "$ pip install git+https://github.com/astroML/astroML_addons\n",
    "```"
   ]
  },
  {
   "cell_type": "markdown",
   "metadata": {
    "slideshow": {
     "slide_type": "slide"
    }
   },
   "source": [
    "## Installing other things\n",
    "\n",
    "We'll need a few other packages installed as we go along.  Here are the ones that I remembered to write down.  You can either install them now, or you can do it later (when you get an error message!).\n",
    "\n",
    "    [~]$ conda install -c astropy astroquery\n",
    "    \n",
    "    [~]$ pip install corner\n",
    "    \n",
    "With all of those things installed, let's check the version of everything again."
   ]
  },
  {
   "cell_type": "code",
   "execution_count": 2,
   "metadata": {
    "slideshow": {
     "slide_type": "slide"
    }
   },
   "outputs": [
    {
     "name": "stdout",
     "output_type": "stream",
     "text": [
      "python version  3.8.3  core programming language\n",
      "numpy version  1.18.5  efficient array operations\n",
      "scipy version  1.5.0  scientific computing tools\n",
      "matplotlib version  3.2.2  plotting and visualization\n",
      "sklearn version  0.23.1  machine learning\n",
      "astroML version  1.0  astronomical machine learning toolkit\n"
     ]
    }
   ],
   "source": [
    "from platform import python_version\n",
    "import numpy\n",
    "import scipy\n",
    "import matplotlib\n",
    "import sklearn\n",
    "import astroML\n",
    "\n",
    "print(\"python version \",python_version(), \" core programming language\")\n",
    "print(\"numpy version \",numpy.__version__, \" efficient array operations\")\n",
    "print(\"scipy version \",scipy.__version__, \" scientific computing tools\")\n",
    "print(\"matplotlib version \",matplotlib.__version__, \" plotting and visualization\")\n",
    "print(\"sklearn version \",sklearn.__version__, \" machine learning\")\n",
    "print(\"astroML version \",astroML.__version__, \" astronomical machine learning toolkit\")"
   ]
  },
  {
   "cell_type": "markdown",
   "metadata": {
    "slideshow": {
     "slide_type": "slide"
    }
   },
   "source": [
    "## Getting Started with Python\n",
    "\n",
    "The course requirements were set up up to ensure that you have at least *some* (extended) experience with Python.  E.g., you might have taken the 113-114-115 series.  If you don't know *any* Python at all, this class may be pretty tough going.  However, many of you might need a refresher.  A good place to start is **Appendix A** (more specifically A3) in the textbook.  \n",
    "\n",
    "In this course, we will be taking advantage of the very nice tools developed by the folks at [DataCamp](https://www.datacamp.com/).  You will all be given access to DataCamp by virtue of being enrolled in this course.  As a result you will actually have access to their full library for 6 months.  If you need a Python refresher, I suggest that you work through their [Intro to Python for Data Science](https://www.datacamp.com/courses/intro-to-python-for-data-science) and [Intermediate Python for Data Science](https://www.datacamp.com/courses/intermediate-python-for-data-science).\n",
    "\n",
    "I would also recommend the [codecademy](https://www.codecademy.com/) course on Python.  It is free and does a good job of walking you through things that you need to learn.\n",
    "\n",
    "You might also be interested in [A Student’s Guide to Python for Physical Modeling](http://press.princeton.edu/titles/10644.html): Chapters 1-3 provide a good introduction to Python before getting into the \"physical modeling\" part.  It encourages the use of **spyder**, which is a matlab-like interactive interface for Python (if you'd prefer that sort of interface).\n",
    "\n",
    "Lastly, from Jake VanderPlas (a contributor to astroML and a co-author of our textbook):\n",
    "\n",
    "- [A Whirlwind Tour of Python](https://www.oreilly.com/programming/free/files/a-whirlwind-tour-of-python.pdf)\n",
    "- [Python Data Science Handbook](https://jakevdp.github.io/PythonDataScienceHandbook/index.html)\n",
    "\n",
    "---\n",
    "\n",
    "## Interfacing with Python\n",
    "\n",
    "You can interface with Python by 1) starting it on the command line: \n",
    "\n",
    "    $ python\n",
    "    \n",
    "or 2) using a web-based interactive interface [Jupyter](http://jupyter.org/).\n",
    "\n",
    "We'll be using the latter.  In fact, each lecture will be in the form of a [jupyter notebook](http://jupyter.org/) that you'll download from the github repository before the start of each class.  \n",
    "\n",
    "To start the notebook app, run:\n",
    "\n",
    "    $ jupyter notebook &\n",
    "    \n",
    "This will pop up a web page in your default browser and show the Dashboard where you can navigate to a particular notebook or open a new one.  You can also open a notebook directly with \n",
    "\n",
    "    $ jupyter notebook InitialSetup.ipynb &\n",
    "   \n",
    "If you are creating a new notebook, click on 'new' at the top-right of the page and select 'python'.\n"
   ]
  },
  {
   "cell_type": "markdown",
   "metadata": {
    "collapsed": true,
    "slideshow": {
     "slide_type": "slide"
    }
   },
   "source": [
    "## Working with jupyter notebooks\n",
    "\n",
    "Notebooks have 2 primary cell types: 'Markdown' and 'Code'.    The Markdown cells are basically just for you to read.  The Code cells are meant to be executed (perhaps after you have filled in some blanks).  \n",
    "\n",
    "To execute a cell in the notebook, type '**shift-return**'. If you see a * in the bracket left of the cell or a 'Busy' in the tab title, it means the command is in the process of running, and you need to wait for it to finish.\n",
    "\n",
    "The notebook is autosaved, so that when you return to a notebook, everything is the same as you left it. If you want to reset it, you can do “revert to checkpoint”.  If you save it yourself, you will create a checkpoint, and the original version will be unavailable.\n",
    "\n",
    "\n",
    "\n",
    "Here are some useful commands to get you started (# followed by text indicates a comment and not what you type)!\n",
    "\n",
    "    In [ ]: ?          # basic help function.  Pops open a sub-frame at the bottom of page.  \n",
    "                         Close with \"x\".\n",
    "    \n",
    "    In [ ]: %quickref  # Pops open a quick reference card\n",
    "    \n",
    "    In [ ]: ! \t       # spawning out to the operating system; \n",
    "                         e.g files=!ls will fill the variable files \n",
    "                         with a list of files in your directory.\n",
    "\n",
    "\n",
    "Jupyter also contains a number of [“magic” commands](https://ipython.org/ipython-doc/dev/interactive/magics.html).\n",
    "Two examples are\n",
    "\n",
    "    In [ ]: %matplotlib inline  # makes plots within the web browser instead of popping up a new window\n",
    "    \n",
    "    In [ ]: %whos               # lists the vectors, etc. that you have defined.\n",
    "\n",
    "Jupyter also has lots of [keyboard shortcuts](https://ipython.org/ipython-doc/1/interactive/notebook.html#keyboard-shortcuts) – the main one is shift-enter to run a cell."
   ]
  },
  {
   "cell_type": "markdown",
   "metadata": {
    "slideshow": {
     "slide_type": "slide"
    }
   },
   "source": [
    "## (Brief) Review of Python Basics\n",
    "\n",
    "To start with Python uses the following [numerical data types and operations](https://docs.python.org/2/library/stdtypes.html#boolean-operations-and-or-not)\n",
    "\n",
    "We will encounter three main types of collections of data:\n",
    "\n",
    "    Lists: a mutable array of data\n",
    "    Tuples: ordered, immutable list\n",
    "    Dictionaries: keyword/value lookup\n",
    "\n",
    "It is worth noting that python begins indexing at 0 and uses [row-major order](https://en.wikipedia.org/wiki/Row-major_order), which means that pairs of values are written as (y,x) instead of (x,y).  This actually makes sense when one is dealing with tables of data.\n",
    "\n",
    "\n",
    "Tuple\n",
    "\n",
    "    its most notable property is that it is immutable – after being defined, it cannot be changed\n",
    "    denoted by parentheses, e.g., x=(5.0,7.0,9.0,11.0)\n",
    "    to index, use square brackets, e.g., print(x[0])\n",
    "    can get part of one using :, e.g., try print(x[2:]) etc.\n",
    "\n",
    "List\n",
    "\n",
    "    in contrast to a tuple, it can be reassigned\n",
    "    denoted with brackets, e.g,. y=[5.0,7.0,9.0,11.0]\n",
    "    to index, also use square brackets, e.g., print(x[0])\n",
    "    can get part of one using :, e.g., try print(y[2:]) etc.\n",
    "\n",
    "Dictionary\n",
    "\n",
    "    assigns a value to a key, for example z={'a':2,'b':4,'c':6}, where a,b,c are the keywords.\n",
    "    the dictionary is indexed by the keyword, e.g., print(z['a'])\n",
    "    they can be quite complicated.\n",
    "    \n",
    "Here is a lot more on data structures: [https://docs.python.org/2/tutorial/datastructures.html](https://docs.python.org/2/tutorial/datastructures.html).\n",
    "\n",
    "---\n",
    "### Methods and Attributes\n",
    "\n",
    "Each type of data structure has associated “methods”. A method is like a little built-in function that can be run on a data structure.\n",
    "\n",
    "For example, open a new cell (or in a python terminal window) and do the following:\n",
    "\n",
    "```python\n",
    "v=[27.0,35.0,101.0,57.0]\n",
    "print(v)\n",
    "v.sort()\n",
    "print(v)\n",
    "```\n",
    "\n",
    "So v has now been replaced with the sorted v.\n",
    "\n",
    "The parentheses indicate that this is a \"method\", which is something that can (but doesn't have to) take *arguments*.  An \"attribute\" on the other hand is just a property.  E.g., if you have an object called `shape` and shape contains information like `area`, `length`, `width`, etc., then you access those values as\n",
    "\n",
    "```python\n",
    "print(shape.area)\n",
    "```\n",
    "\n",
    "Basic mathematical operations that can be applied to your data are found here: [https://docs.python.org/2/library/math.html](https://docs.python.org/2/library/math.html).\n",
    "\n",
    "OK, hopefully that is a refresher for everyone, so let's get going with more complicated stuff.\n",
    "If you need more of a refresher than that, see the links above."
   ]
  },
  {
   "cell_type": "markdown",
   "metadata": {
    "slideshow": {
     "slide_type": "slide"
    }
   },
   "source": [
    "## NumPy\n",
    "\n",
    "NumPy is short for Numerical Python. It is the foundational package for scientific computing in Python. It is a library which will allow us to work with data structures called **arrays** that are more efficient for storing amd manipulating data than other Python data structures (or C++ for that matter). \n",
    "\n",
    "For example, cut and paste this into a new cell, then type shift-enter to run it:\n",
    "\n",
    "```python\n",
    "import numpy as np\n",
    "xlist = [1,2,3]\n",
    "xarray = np.array(xlist)\n",
    "twice_xarray = 2*xarray\n",
    "print(twice_xarray)\n",
    "```\n",
    "\n",
    "This is far better than creating a for loop over the entries in `xlist` or even something fancier like a \"list comprehension\"\n",
    "```python\n",
    "   twice_xlist = [2*x for x in xlist]\n",
    "   print(twice_xlist)\n",
    "```\n",
    "Note the lack of commas in the array as compared to the list.\n",
    "\n",
    "To load the Numpy library type:  \n",
    "\n",
    "    In [ ]: import numpy as np\n",
    "    \n",
    "In fact, just plan on starting **every** notebook with this!    \n",
    "\n",
    "The basic unit for numpy is an [ndarray](https://docs.scipy.org/doc/numpy/reference/arrays.ndarray.html).  See the link for examples of how to define, index, slice, etc. the array.\n",
    "\n",
    "There are quite a few **methods** associated with numpy arrays.  Some useful ones include:\n",
    "\n",
    "|Method |\tProperty|\n",
    "|-------|-----------|\n",
    "|np.zeros(5,float) |\tyields a 5-element array of zeros of type float |\n",
    "|a=np.empty(4) |\tyields a 4-element empty array |\n",
    "|a.fill(5.5) |\tfills that array with 5.5 for all elements |\n",
    "|np.arange(5) |\tyields an integer array of length 5 with increasing values | \n",
    "|b=np.random.normal(10,3,5) |\tyields a 5 element array of normally distributed numbers with mean 10 and variance 3 |\n",
    "|mask=b > 9 |\tcreates a boolean array determing which numbers are greater than 9 |\n",
    "|print(b[mask]) |\tprints the ones with values > 9 |\n",
    "|b[mask]=0 | sets the ones > 9 to zero |\n",
    "\n",
    "Arrays can be multidimensional, e.g., ```c=np.random.normal(10,3,(2,4))```, creates a 2 x 4 array with normally distributed numbers with mean 10 and variance 3.\n",
    "\n",
    "More methods for multidimensional arrays:\n",
    "\n",
    "|Method |\tProperty|\n",
    "|-------|-----------|\n",
    "|d=c[0,:] |\tgrabs the first (0th) row of c. |\n",
    "|d=c[1,:] |\tgrabs the second (1st) row of c. |\n",
    "|d=c[:,0] |\tgrabs the first column of c. |\n",
    "|c.dtype |\tdata type |\n",
    "|c.size |\ttotal number of elements |\n",
    "|c.ndim |\tnumber of dimensions |\n",
    "|c.shape |\tshape or dimensionality |\n",
    "|c.nbytes |\tmemory used (bytes) |\n",
    "|c.min() |\tgives the minimum of c |\n",
    "|c.max() |\tgives the maximum of c |\n",
    "|c.sum() |\tsum of all elements |\n",
    "|c.mean() |\tmean of all elements |\n",
    "|c.std() |\tstandard deviation of all elements |\n",
    "|c.sum(axis=0) | will present sum along the 0th axis (column direction). The result will have reduced dimensionality |\n",
    "\n",
    "You can also operate with arrays, for example, adding them together, multiplying them, multiplying or adding a constant. There are, however, \"broadcasting\" rules so that you need to make sure you know what you are doing when dealing with arrays of different sizes."
   ]
  },
  {
   "cell_type": "markdown",
   "metadata": {
    "slideshow": {
     "slide_type": "slide"
    }
   },
   "source": [
    "## SciPy\n",
    "\n",
    "\n",
    "[SciPy](http://docs.scipy.org/doc/scipy/reference/) is an \"open-source software for mathematics, science, and engineering\".  We 'import' it the same way that we import numpy:\n",
    "\n",
    "\n",
    "    In [ ]: import scipy as sp\n",
    "\n",
    "\n",
    "SciPy is a suite of tools for data analysis including integration, statistical functions, interpolation.  It is built on top of Numpy. Where Numpy is intended for array *manipulation*, Scipy is intended for *analysis*. This is where the useful tools that are built into IDL (such as tsum, interpol, etc) will be.  It may be worth looking at the users guide to get an idea of the kinds of functions are available.   N.B.  For some packages you need to import more than just the main scipy package.  So, for example to see what is available in the scipy.integrate package, do the following:\n",
    "\n",
    "```\n",
    "import scipy.integrate\n",
    "scipy.integrate?\n",
    "```\n",
    "\n"
   ]
  },
  {
   "cell_type": "markdown",
   "metadata": {
    "slideshow": {
     "slide_type": "slide"
    }
   },
   "source": [
    "## Pandas\n",
    "\n",
    "[Pandas](https://pandas.pydata.org/) is an \"is a fast, powerful, flexible and easy to use open source data analysis and manipulation tool,\n",
    "built on top of the Python programming language.\". \n",
    "\n",
    "We 'import' it the same way that we import numpy:\n",
    "\n",
    "\n",
    "    In [ ]: import pandas as pd\n",
    "\n",
    "Pandas is a library designed with manipulating numerical tables and time series in mind and is a very useful tool for data science.   We will be making use of Pandas [DataFrames](https://pandas.pydata.org/pandas-docs/stable/reference/api/pandas.DataFrame.html) in the course of this class. You can get some experience using Pandas either with [DataCamp](https://www.datacamp.com/community/tutorials/pandas-tutorial-dataframe-python) or with [Chapter 3 of the Python Data Science Handbook by Jake VanderPlas](https://jakevdp.github.io/PythonDataScienceHandbook/03.00-introduction-to-pandas.html).\n",
    "\n",
    "```\n",
    "import pandas as pd\n",
    "pd?\n",
    "```"
   ]
  },
  {
   "cell_type": "markdown",
   "metadata": {
    "slideshow": {
     "slide_type": "slide"
    }
   },
   "source": [
    "## Scikit-learn\n",
    "\n",
    "The [Scikit-learn library](http://scikit-learn.org/) forms the core of computing tools that we will use for this class.  It probably needs its own introductory tutorial as both the input and output may not be quite what you would have expected.    You might want to spend some time going through their quick start guide, user's guide and tutorials here: [http://scikit-learn.org/stable/documentation.html](http://scikit-learn.org/stable/documentation.html).\n"
   ]
  },
  {
   "cell_type": "markdown",
   "metadata": {
    "collapsed": true,
    "slideshow": {
     "slide_type": "slide"
    }
   },
   "source": [
    "## Intro to Everything\n",
    "\n",
    "Lastly, here is a tutorial on the whole scientific Python \"ecosystem\": [www.scipy-lectures.org](http://www.scipy-lectures.org/)"
   ]
  },
  {
   "cell_type": "markdown",
   "metadata": {
    "slideshow": {
     "slide_type": "slide"
    }
   },
   "source": [
    "## Testing, Testing, 1, 2, 3\n",
    "\n",
    "OK, let's make sure that your software is all installed and that we can use `git`."
   ]
  },
  {
   "cell_type": "markdown",
   "metadata": {
    "slideshow": {
     "slide_type": "slide"
    }
   },
   "source": [
    "## Matplotlib Example\n",
    "\n",
    "It is generally useful to be able to visualize your data.  We will do that using the \n",
    "[matplotlib](http://matplotlib.org/) library.   Most of you should be familiar with it already, but we will likely be making some plots that are more complex than you are used to.  One nice resource is this [thumbnail gallery](http://matplotlib.org/gallery.html) which you can use to figure out how to make a new plot.\n",
    "\n",
    "Let's make sure that everything is working by making a simple plot\n"
   ]
  },
  {
   "cell_type": "code",
   "execution_count": 3,
   "metadata": {
    "slideshow": {
     "slide_type": "slide"
    }
   },
   "outputs": [
    {
     "data": {
      "image/png": "[encoded data removed]",
      "text/plain": [
       "<Figure size 432x288 with 1 Axes>"
      ]
     },
     "metadata": {
      "needs_background": "light"
     },
     "output_type": "display_data"
    }
   ],
   "source": [
    "# magic command to make the figure pop up below instead of in a new window\n",
    "%matplotlib inline \n",
    "\n",
    "# invoke pyplot in matplotlib, give it an alias\n",
    "import matplotlib.pyplot as plt  \n",
    "import numpy as np\n",
    "\n",
    "x = np.linspace(0, 2*np.pi, 300)\n",
    "y = np.sin(x)\n",
    "plt.plot(x, y)\n",
    "y2 = np.sin(x**2)\n",
    "plt.plot(x, y, label=r'$\\sin(x)$')\n",
    "plt.plot(x, y2, label=r'$\\sin(x^2)$')\n",
    "plt.title('Some functions')\n",
    "plt.xlabel('x')\n",
    "plt.ylabel('y')\n",
    "plt.grid()\n",
    "plt.legend();"
   ]
  },
  {
   "cell_type": "markdown",
   "metadata": {
    "slideshow": {
     "slide_type": "slide"
    }
   },
   "source": [
    "You can change both the [marker/line styles](http://matplotlib.org/examples/lines_bars_and_markers/) and [colors](http://matplotlib.org/api/colors_api.html), but I highly recommend the use of the colors in the [palettable library](https://jiffyclub.github.io/palettable/), where you can see the colors at [http://colorbrewer2.org/](http://colorbrewer2.org/).\n",
    "\n",
    "Try making some changes to the code above and see what happens."
   ]
  },
  {
   "cell_type": "markdown",
   "metadata": {
    "slideshow": {
     "slide_type": "slide"
    }
   },
   "source": [
    "## AstroML Example\n",
    "\n",
    "Now let's download and run one of the astroML examples inside the Jupyter notebook."
   ]
  },
  {
   "cell_type": "code",
   "execution_count": 4,
   "metadata": {
    "slideshow": {
     "slide_type": "slide"
    }
   },
   "outputs": [
    {
     "name": "stdout",
     "output_type": "stream",
     "text": [
      "  % Total    % Received % Xferd  Average Speed   Time    Time     Time  Current\n",
      "                                 Dload  Upload   Total   Spent    Left  Speed\n",
      "100  3049  100  3049    0     0   8564      0 --:--:-- --:--:-- --:--:--  8540\n"
     ]
    }
   ],
   "source": [
    "! curl -O https://raw.githubusercontent.com/astroML/astroML/master/examples/datasets/plot_SDSS_SSPP.py"
   ]
  },
  {
   "cell_type": "code",
   "execution_count": null,
   "metadata": {
    "slideshow": {
     "slide_type": "slide"
    }
   },
   "outputs": [],
   "source": [
    "#This will run the downloaded file\n",
    "%matplotlib inline\n",
    "%run ./plot_SDSS_SSPP.py"
   ]
  },
  {
   "cell_type": "markdown",
   "metadata": {
    "slideshow": {
     "slide_type": "slide"
    }
   },
   "source": [
    "## Git Example\n",
    "\n",
    "Lastly, let's practice some git!\n",
    "\n",
    "1. create a new repository on github, with a README file. Name it `PHYS_440_540_test`.\n",
    "\n",
    "2. clone it using:\n",
    "```bash\n",
    "cd ~/git\n",
    "git clone https://github.com/YOURUSERNAME/PHYS_440_540_test\n",
    "```\n",
    "3. start Jupyter in the cloned directory\n",
    "```\n",
    "cd PHYS_440_540_test\n",
    "jupyter notebook &\n",
    "```\n",
    "4. create a new notebook. Name it `hello.ipynb` (with File:Rename), and add a cell with the following piece of code:\n",
    "```python\n",
    "print \"Hello World!\"\n",
    "```\n",
    "5. add the notebook to your git repository and commit by running (in the terminal window) the following:\n",
    "```bash\n",
    "git add hello.ipynb\n",
    "git commit -m \"Added hello.ipynb to repository.\"\n",
    "```\n",
    "6. see what happened:\n",
    "```bash\n",
    "git log\n",
    "```\n",
    "7. make another change in the Jupyter notebook. For example, add another cell (\"+\" icon on the toolbar) with the following:\n",
    "```python\n",
    "x = 2+2\n",
    "print(x)\n",
    "```\n",
    "8. see what happened\n",
    "```bash\n",
    "git status\n",
    "```\n",
    "9. commit changed files\n",
    "```\n",
    "git commit -am \"Updated hello.ipynb with complex mathematics.\"\n",
    "```\n",
    "10. \"push\" the changes to github\n",
    "```\n",
    "git push\n",
    "```\n",
    "11. go browse the result on github"
   ]
  },
  {
   "cell_type": "markdown",
   "metadata": {
    "slideshow": {
     "slide_type": "slide"
    }
   },
   "source": [
    "## Summary\n",
    "\n",
    "At this point, all of you should have:\n",
    "* A `GitHub` account and a basic understanding of `git`\n",
    "* Installed the Anaconda Python Distribution with Python 3\n",
    "* Installed AstroML\n",
    "* The ability to create and run Jupyter notebooks\n",
    "\n",
    "Now we're ready to do some astro-statistics!"
   ]
  }
 ],
 "metadata": {
  "anaconda-cloud": {},
  "celltoolbar": "Slideshow",
  "kernelspec": {
   "display_name": "Python 3",
   "language": "python",
   "name": "python3"
  },
  "language_info": {
   "codemirror_mode": {
    "name": "ipython",
    "version": 3
   },
   "file_extension": ".py",
   "mimetype": "text/x-python",
   "name": "python",
   "nbconvert_exporter": "python",
   "pygments_lexer": "ipython3",
   "version": "3.8.3"
  }
 },
 "nbformat": 4,
 "nbformat_minor": 1
}
