{
 "cells": [
  {
   "cell_type": "code",
   "execution_count": null,
   "metadata": {},
   "outputs": [],
   "source": [
    "GTR: Add some plots"
   ]
  },
  {
   "cell_type": "markdown",
   "metadata": {},
   "source": [
    "If validation error continues to rise with every epoch when using Batch Gradient Descent what might that be?  What can you do about it?\n",
    "\n",
    "Learning rate too high and is diverging (or model overfitting).\n"
   ]
  },
  {
   "cell_type": "markdown",
   "metadata": {},
   "source": [
    "Why might there be a gap between the training and validation error when using Polynomial Regression?  How can you solve this?\n",
    "\n",
    "Suggests overfitting.  Could increase number of training points.  Decrease model complexity (e.g., by regularization)."
   ]
  },
  {
   "cell_type": "markdown",
   "metadata": {},
   "source": [
    "If the training and validation errors are equally high when using Ridge Regression does that represent high bias or high variance?  What should you do to $\\alpha$?\n",
    "\n",
    "Suggests underfitting (high bias).  Make alpha smaller (less constraint)."
   ]
  }
 ],
 "metadata": {
  "kernelspec": {
   "display_name": "Python 3",
   "language": "python",
   "name": "python3"
  },
  "language_info": {
   "codemirror_mode": {
    "name": "ipython",
    "version": 3
   },
   "file_extension": ".py",
   "mimetype": "text/x-python",
   "name": "python",
   "nbconvert_exporter": "python",
   "pygments_lexer": "ipython3",
   "version": "3.8.3"
  }
 },
 "nbformat": 4,
 "nbformat_minor": 4
}
